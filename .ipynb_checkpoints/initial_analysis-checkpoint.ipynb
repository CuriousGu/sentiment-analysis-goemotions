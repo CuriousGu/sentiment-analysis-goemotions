{
 "cells": [
  {
   "cell_type": "code",
   "execution_count": 1,
   "metadata": {
    "id": "xVPY9XU_ozSB"
   },
   "outputs": [
    {
     "ename": "ModuleNotFoundError",
     "evalue": "No module named 'numpy'",
     "output_type": "error",
     "traceback": [
      "\u001b[0;31m---------------------------------------------------------------------------\u001b[0m",
      "\u001b[0;31mModuleNotFoundError\u001b[0m                       Traceback (most recent call last)",
      "Cell \u001b[0;32mIn[1], line 2\u001b[0m\n\u001b[1;32m      1\u001b[0m \u001b[38;5;28;01mimport\u001b[39;00m \u001b[38;5;21;01mre\u001b[39;00m\n\u001b[0;32m----> 2\u001b[0m \u001b[38;5;28;01mimport\u001b[39;00m \u001b[38;5;21;01mnumpy\u001b[39;00m \u001b[38;5;28;01mas\u001b[39;00m \u001b[38;5;21;01mnp\u001b[39;00m\n\u001b[1;32m      3\u001b[0m \u001b[38;5;28;01mimport\u001b[39;00m \u001b[38;5;21;01mpandas\u001b[39;00m \u001b[38;5;28;01mas\u001b[39;00m \u001b[38;5;21;01mpd\u001b[39;00m\n\u001b[1;32m      4\u001b[0m \u001b[38;5;28;01mfrom\u001b[39;00m \u001b[38;5;21;01mtqdm\u001b[39;00m \u001b[38;5;28;01mimport\u001b[39;00m tqdm\n",
      "\u001b[0;31mModuleNotFoundError\u001b[0m: No module named 'numpy'"
     ]
    }
   ],
   "source": [
    "import re\n",
    "import numpy as np\n",
    "import pandas as pd\n",
    "from tqdm import tqdm\n",
    "\n",
    "import seaborn as sns\n",
    "sns.set()\n",
    "\n",
    "import matplotlib.pyplot as plt\n",
    "\n",
    "import torch\n",
    "from torch.utils.data import Dataset, DataLoader\n",
    "\n",
    "import evaluate\n",
    "\n",
    "from transformers import AutoTokenizer\n",
    "from transformers import BertForSequenceClassification\n",
    "from transformers import TrainingArguments, Trainer\n",
    "from transformers import DataCollatorWithPadding"
   ]
  },
  {
   "cell_type": "code",
   "execution_count": 2,
   "metadata": {
    "id": "kawNuEzY0iI0"
   },
   "outputs": [],
   "source": [
    "MAX_LENGTH  = 512\n",
    "TRAIN_RATIO = 0.7\n",
    "VAL_RATIO   = 0.2\n",
    "TEST_RATIO  = 0.1\n",
    "BATCH_SIZE  = 16 "
   ]
  },
  {
   "cell_type": "code",
   "execution_count": null,
   "metadata": {
    "colab": {
     "base_uri": "https://localhost:8080/"
    },
    "id": "pabuWJ3ISgqK",
    "outputId": "4c29c801-a124-4b48-e9cb-35fddedda054"
   },
   "outputs": [],
   "source": [
    "device = torch.device('cuda:0' if torch.cuda.is_available() else 'cpu')\n",
    "print(f'{device=}')"
   ]
  },
  {
   "cell_type": "code",
   "execution_count": null,
   "metadata": {
    "id": "XpYERxeZozSE"
   },
   "outputs": [],
   "source": [
    "df = pd.read_csv('go_emotions_dataset.csv')"
   ]
  },
  {
   "cell_type": "code",
   "execution_count": null,
   "metadata": {
    "colab": {
     "base_uri": "https://localhost:8080/"
    },
    "id": "wTSQ1QlpozSE",
    "outputId": "78fda191-1b5c-4aa3-da6c-348f2c0782a4"
   },
   "outputs": [],
   "source": [
    "for i, col in enumerate(list(df.columns)):\n",
    "    print(i, col)"
   ]
  },
  {
   "cell_type": "code",
   "execution_count": null,
   "metadata": {
    "id": "9jpuoE7OozSF"
   },
   "outputs": [],
   "source": [
    "positive_columns = ['admiration', 'amusement', 'approval', 'caring', 'curiosity', 'desire', 'excitement', 'gratitude', 'joy', 'love', 'optimism', 'pride', 'realization', 'surprise']\n",
    "negative_columns = ['anger', 'annoyance', 'confusion', 'disappointment', 'disapproval', 'disgust', 'embarrassment', 'fear', 'grief', 'nervousness', 'relief', 'remorse', 'sadness']\n",
    "neutral_columns  = ['neutral']"
   ]
  },
  {
   "cell_type": "code",
   "execution_count": null,
   "metadata": {
    "id": "IBrEhMwhozSF"
   },
   "outputs": [],
   "source": [
    "positive_emotions_count = {}\n",
    "for emotion in positive_columns:\n",
    "    positive_emotions_count[emotion] = df[emotion].value_counts().to_dict()[1]"
   ]
  },
  {
   "cell_type": "code",
   "execution_count": null,
   "metadata": {
    "colab": {
     "base_uri": "https://localhost:8080/",
     "height": 758
    },
    "id": "7maOhil5ozSG",
    "outputId": "2eccfc91-2fb9-4364-83f5-442fd0bf50a1"
   },
   "outputs": [],
   "source": [
    "plt.figure(figsize=(10,8))\n",
    "plt.bar(x=positive_emotions_count.keys(), height=positive_emotions_count.values())\n",
    "plt.xticks(rotation=-45)\n",
    "plt.show"
   ]
  },
  {
   "cell_type": "code",
   "execution_count": null,
   "metadata": {
    "id": "0tZLBYixozSG"
   },
   "outputs": [],
   "source": [
    "negative_emotions_count = {}\n",
    "for emotion in negative_columns:\n",
    "    negative_emotions_count[emotion] = df[emotion].value_counts().to_dict()[1]"
   ]
  },
  {
   "cell_type": "code",
   "execution_count": null,
   "metadata": {
    "colab": {
     "base_uri": "https://localhost:8080/",
     "height": 762
    },
    "id": "slauW0qwozSG",
    "outputId": "16364269-21ad-40c2-e25c-90d4fbe10305"
   },
   "outputs": [],
   "source": [
    "plt.figure(figsize=(10,8))\n",
    "plt.bar(x=negative_emotions_count.keys(), height=negative_emotions_count.values())\n",
    "plt.xticks(rotation=-45)\n",
    "plt.show()"
   ]
  },
  {
   "cell_type": "code",
   "execution_count": null,
   "metadata": {
    "id": "viLZd6r-ozSH"
   },
   "outputs": [],
   "source": [
    "count_emotions = {'positive': np.sum(list(positive_emotions_count.values())), 'negative': np.sum(list(negative_emotions_count.values()))}"
   ]
  },
  {
   "cell_type": "code",
   "execution_count": null,
   "metadata": {
    "colab": {
     "base_uri": "https://localhost:8080/"
    },
    "id": "H0jR-I3YozSH",
    "outputId": "d624c82f-7f8a-4d7f-f205-3301b58144b0"
   },
   "outputs": [],
   "source": [
    "count_emotions"
   ]
  },
  {
   "cell_type": "code",
   "execution_count": null,
   "metadata": {
    "colab": {
     "base_uri": "https://localhost:8080/",
     "height": 450
    },
    "id": "2NpeD2bvozSH",
    "outputId": "cdbd059d-b83e-48aa-979e-d383e7d814f0"
   },
   "outputs": [],
   "source": [
    "plt.figure(figsize=(10,5))\n",
    "plt.bar(x=count_emotions.keys(), height=count_emotions.values())\n",
    "plt.show()"
   ]
  },
  {
   "cell_type": "code",
   "execution_count": null,
   "metadata": {
    "colab": {
     "base_uri": "https://localhost:8080/"
    },
    "id": "aZqORhQEozSI",
    "outputId": "8e450067-29d5-427f-d3ae-d2e19ae0f836"
   },
   "outputs": [],
   "source": [
    "count_emotions['positive'] - count_emotions['negative']"
   ]
  },
  {
   "cell_type": "markdown",
   "metadata": {
    "id": "oxs50doUozSI"
   },
   "source": [
    "Como os dados não estão balanceados, iremos pensar em eliminar algumas labels/emoções da classe positiva."
   ]
  },
  {
   "cell_type": "code",
   "execution_count": null,
   "metadata": {
    "id": "Eje_3fzSozSJ"
   },
   "outputs": [],
   "source": [
    "threshold = 5000\n",
    "ids = []\n",
    "for emotion in positive_columns:\n",
    "    if positive_emotions_count[emotion] > threshold:\n",
    "        ids += df[df[emotion] == 1].sample(threshold)['id'].to_list()\n",
    "    else:\n",
    "        ids += df[df[emotion] == 1]['id'].to_list()"
   ]
  },
  {
   "cell_type": "code",
   "execution_count": null,
   "metadata": {
    "colab": {
     "base_uri": "https://localhost:8080/"
    },
    "id": "Ib0fR5e9ozSJ",
    "outputId": "55867a5b-a724-4eb9-9f63-bad345a6aa37"
   },
   "outputs": [],
   "source": [
    "print(f'Número de amostras removidas: {len(ids)}')"
   ]
  },
  {
   "cell_type": "code",
   "execution_count": null,
   "metadata": {
    "id": "9RgjRfvNozSJ"
   },
   "outputs": [],
   "source": [
    "df_balanced = df[df['id'].isin(ids)]"
   ]
  },
  {
   "cell_type": "code",
   "execution_count": null,
   "metadata": {
    "id": "sEbL2vCyozSK"
   },
   "outputs": [],
   "source": [
    "positive_emotions_count = {}\n",
    "for emotion in positive_columns:\n",
    "    positive_emotions_count[emotion] = df_balanced[emotion].value_counts().to_dict()[1]\n",
    "\n",
    "negative_emotions_count = {}\n",
    "for emotion in negative_columns:\n",
    "    negative_emotions_count[emotion] = df_balanced[emotion].value_counts().to_dict()[1]\n",
    "\n",
    "count_emotions = {'positive': np.sum(list(positive_emotions_count.values())), 'negative': np.sum(list(negative_emotions_count.values()))}"
   ]
  },
  {
   "cell_type": "code",
   "execution_count": null,
   "metadata": {
    "colab": {
     "base_uri": "https://localhost:8080/"
    },
    "id": "dPYtIw5SozSK",
    "outputId": "55954ab4-930b-43b0-df53-57d847c4c7c4"
   },
   "outputs": [],
   "source": [
    "positive_emotions_count"
   ]
  },
  {
   "cell_type": "code",
   "execution_count": null,
   "metadata": {
    "colab": {
     "base_uri": "https://localhost:8080/",
     "height": 450
    },
    "id": "hUpn23ePozSK",
    "outputId": "d427875a-75f4-4209-da22-39c9715f3ea9"
   },
   "outputs": [],
   "source": [
    "plt.figure(figsize=(10,5))\n",
    "plt.bar(x=count_emotions.keys(), height=count_emotions.values())\n",
    "plt.show()"
   ]
  },
  {
   "cell_type": "markdown",
   "metadata": {
    "id": "FNmUyG3cMSUa"
   },
   "source": [
    "Observamos que existem muitas amostras positivas e com labels negativos simultaneamente. Assim, cortar dessa forma não é uma boa opção"
   ]
  },
  {
   "cell_type": "markdown",
   "metadata": {
    "id": "iQtzmPoCMcGM"
   },
   "source": [
    "### **Contabilizando o número de labels positivas e negativas para um mesmo texto**"
   ]
  },
  {
   "cell_type": "code",
   "execution_count": null,
   "metadata": {
    "id": "N25DvbAAozSL"
   },
   "outputs": [],
   "source": [
    "df['num_labels_positives'] = df[positive_columns].apply(lambda x: np.sum(x), 1) \n",
    "df['num_labels_negatives'] = df[negative_columns].apply(lambda x: np.sum(x), 1)"
   ]
  },
  {
   "cell_type": "code",
   "execution_count": null,
   "metadata": {
    "colab": {
     "base_uri": "https://localhost:8080/"
    },
    "id": "ezPkaLLoozSL",
    "outputId": "b5d1d9c1-ac25-46ab-e3be-4ea86397261d"
   },
   "outputs": [],
   "source": [
    "print(f\"Número de amostras com classificação duvidosa: {df[df['num_labels_positives'] == df['num_labels_negatives']].shape[0]}\")\n",
    "print(f\"Tamanho do dataset retirando essas amostras: {df.shape[0] - df[df['num_labels_positives'] == df['num_labels_negatives']].shape[0]}\")"
   ]
  },
  {
   "cell_type": "markdown",
   "metadata": {
    "id": "dzWRH_cIMjbY"
   },
   "source": [
    "Vamos inicialmente remover amostras que possuem um mesmo número de labels positivas e negativas: na matemática da vida, elas se cortam."
   ]
  },
  {
   "cell_type": "code",
   "execution_count": null,
   "metadata": {
    "id": "s6sAVkeUozSL"
   },
   "outputs": [],
   "source": [
    "balanced_df = df.drop(df[df['num_labels_positives'] == df['num_labels_negatives']].index)"
   ]
  },
  {
   "cell_type": "code",
   "execution_count": null,
   "metadata": {
    "id": "zagRFwrjozSL"
   },
   "outputs": [],
   "source": [
    "def set_label(row):\n",
    "    return 1 if row['num_labels_positives'] > row['num_labels_negatives'] else 0"
   ]
  },
  {
   "cell_type": "code",
   "execution_count": null,
   "metadata": {
    "id": "CmCIQiULozSL"
   },
   "outputs": [],
   "source": [
    "balanced_df['imdb_label'] = balanced_df.apply(set_label, 1)"
   ]
  },
  {
   "cell_type": "markdown",
   "metadata": {
    "id": "fmTGom_qozSL"
   },
   "source": [
    "## **Adaptando os dados para o nosso modelo**\n"
   ]
  },
  {
   "cell_type": "code",
   "execution_count": null,
   "metadata": {
    "colab": {
     "base_uri": "https://localhost:8080/",
     "height": 206
    },
    "id": "SFJzHcJaozSL",
    "outputId": "3c78f41e-f6ca-4ca8-a3dd-0c332895c64d"
   },
   "outputs": [],
   "source": [
    "df_labeled = balanced_df[['text', 'imdb_label']].copy()\n",
    "df_labeled.head()"
   ]
  },
  {
   "cell_type": "markdown",
   "metadata": {
    "id": "TSeLfGccM4Ra"
   },
   "source": [
    "#### **Pré-processamento**"
   ]
  },
  {
   "cell_type": "code",
   "execution_count": null,
   "metadata": {
    "id": "1OD_VOpyquCI"
   },
   "outputs": [],
   "source": [
    "def preprocess_with_emojis(text):\n",
    "    preprocessed_text = re.sub(r'http\\S+', '', text) # removendo links\n",
    "    preprocessed_text = preprocessed_text.replace('\"', '')    # removendo aspas\n",
    "    preprocessed_text = re.sub(\"[-*!,$><:.+?=]\", '', preprocessed_text) # remove outras pontuações\n",
    "\n",
    "    preprocessed_text = re.sub(r'[.]\\s+', '', preprocessed_text)  # removendo reticências \n",
    "    # emojis = re.compile(\"[\"\n",
    "    #     u\"\\U0001F600-\\U0001F64F\"  # emoticons\n",
    "    #     u\"\\U0001F300-\\U0001F5FF\"  # symbols & pictographs\n",
    "    #     u\"\\U0001F680-\\U0001F6FF\"  # transport & map symbols\n",
    "    #     u\"\\U0001F1E0-\\U0001F1FF\"  # flags (iOS)\n",
    "    #     u\"\\U00002500-\\U00002BEF\"  # chinese char\n",
    "    #     u\"\\U00002702-\\U000027B0\"\n",
    "    #     u\"\\U00002702-\\U000027B0\"\n",
    "    #     u\"\\U000024C2-\\U0001F251\"\n",
    "    #     u\"\\U0001f926-\\U0001f937\"\n",
    "    #     u\"\\U00010000-\\U0010ffff\"\n",
    "    #     u\"\\u2640-\\u2642\" \n",
    "    #     u\"\\u2600-\\u2B55\"\n",
    "    #     u\"\\u200d\"\n",
    "    #     u\"\\u23cf\"\n",
    "    #     u\"\\u23e9\"\n",
    "    #     u\"\\u231a\"\n",
    "    #     u\"\\ufe0f\"  # dingbats\n",
    "    #     u\"\\u3030\"\n",
    "    #                   \"]+\", re.UNICODE)\n",
    "    # preprocessed_text = re.sub(emojis, ' ', preprocessed_text) # removendo emojis\n",
    "    preprocessed_text = re.sub(r'  ', ' ', preprocessed_text) # removendo espaços extras\n",
    "    \n",
    "    return preprocessed_text.lower()  \n",
    "\n",
    "def pre_process_text(text):\n",
    "    preprocessed_text = re.sub(r'http\\S+', '', text) # removendo links\n",
    "    preprocessed_text = preprocessed_text.replace('\"', '')    # removendo aspas\n",
    "    preprocessed_text = re.sub(\"[-*!,$><:.+?=]\", '', preprocessed_text) # remove outras pontuações\n",
    "\n",
    "    preprocessed_text = re.sub(r'[.]\\s+', '', preprocessed_text)  # removendo reticências \n",
    "    preprocessed_text = re.sub(r'  ', ' ', preprocessed_text) # removendo espaços extras\n",
    "    \n",
    "    return preprocessed_text.lower()"
   ]
  },
  {
   "cell_type": "code",
   "execution_count": null,
   "metadata": {
    "colab": {
     "base_uri": "https://localhost:8080/",
     "height": 206
    },
    "id": "OAU5s7_etR6O",
    "outputId": "160ef018-fcc9-409a-fa99-2d360055846c"
   },
   "outputs": [],
   "source": [
    "df_labeled['preprocessed_text'] = df_labeled['text'].apply(pre_process_text, 1)\n",
    "df_labeled.head()"
   ]
  },
  {
   "cell_type": "markdown",
   "metadata": {
    "id": "mHe7FzfrOPKd"
   },
   "source": [
    "## **Carregando tokenizer e modelo**"
   ]
  },
  {
   "cell_type": "code",
   "execution_count": null,
   "metadata": {
    "colab": {
     "base_uri": "https://localhost:8080/",
     "height": 145,
     "referenced_widgets": [
      "81f564d0193d48bd94821c18ab073d9a",
      "1230828bdca7411ea2c00d323d030dc9",
      "98339c2ce5ff44e1a5c939a0891121d2",
      "f9e965154dfa4e3cbd04c913d5a418ec",
      "c6e25dedec574ae7bb2cdea93f76e114",
      "416a838f4ab94ab7ab78d0c2205957fe",
      "49936f8f0b3b4614ad0977a60fe868c5",
      "f60b8f0a49eb4fe284a3d8366add29ca",
      "e87f84973012488bbed438282b225ccb",
      "ec48937136a347a3be3028dadbe721d0",
      "0c7918746f764b80807e3591d7263889",
      "917ff45836b5416892cb9e82235e3103",
      "a287798d55b445c9b6e2a7039c5e2c13",
      "4418165d579447db8d336ab25eb3e338",
      "341f4058c4604dfc8a379e03190305a3",
      "64e13629ef25495cad8bdebbbc87efb8",
      "c6801d01d89f47509e40dc7a64e72b25",
      "0a1309ab5a7649b090bb759480309167",
      "61b5e144377d4dcd9af41ec9f9d93400",
      "410a9fc602ca4406866e54fa1f9f3042",
      "fbde99897b844287a47bcc4fcc9e46e7",
      "4ae2f11d315d47ba89ca54c7142b0cb7",
      "9e201a64cbca48899176f1963b9469df",
      "fd478ff597d44c02a474cd2e638bed76",
      "630b46e33e404b329e9fb5a220256e68",
      "4444ec23b27f4af0bd286f60aeec81a3",
      "1b005d3d23814f4091e423bb3d41fd1b",
      "2db8efea85414ccd90cf29ab1828fa71",
      "0749dce4ec5446d8af903bbf81d847f4",
      "12715c584ac24d279d0bca01f9f969f1",
      "064f63b734b8444490c6b562689ed91d",
      "b6af9fdc0bcf4b0e92886ceba2a63aa2",
      "73149374edcf4b4a8a490c6a8e48e5cb",
      "6065d35c66d3478ea36b0772143ad95c",
      "298808cdde6443a7a27107e4051e94d3",
      "8dd295baec0c41469e16a08a09cfed7e",
      "018b49955c754a7482e858bd5946597c",
      "1cf7798a126242eda4f5247ac2a8e253",
      "9b319c99480e4b8aad0b8efbecf9e484",
      "4ce898cb9bb14b8189a1e07e7a9a4245",
      "108763e0c75d44e9969c883477664e70",
      "b74ba9a7d9c441f0b600ad3babf41455",
      "f759fe3b1d9d443ead8755fb1fdcac3c",
      "f8249641a1ac4190b358c3dd4982fa73"
     ]
    },
    "id": "7S_FlZHkpQXb",
    "outputId": "9328a018-56c5-4e50-e562-374893a7d545"
   },
   "outputs": [],
   "source": [
    "base = 'bert-base-uncased'\n",
    "tokenizer = AutoTokenizer.from_pretrained(base)"
   ]
  },
  {
   "cell_type": "code",
   "execution_count": null,
   "metadata": {
    "id": "iGdjiOliOhXI"
   },
   "outputs": [],
   "source": [
    "df_tokenized = tokenizer(df_labeled['preprocessed_text'].to_list(), return_tensors='pt', padding=True, truncation=True, max_length=MAX_LENGTH)"
   ]
  },
  {
   "cell_type": "code",
   "execution_count": null,
   "metadata": {},
   "outputs": [],
   "source": [
    "df_tokenized.keys()"
   ]
  },
  {
   "cell_type": "code",
   "execution_count": null,
   "metadata": {
    "colab": {
     "base_uri": "https://localhost:8080/"
    },
    "id": "pW-NATl_O8bO",
    "outputId": "8878a2f8-98db-4c56-f73f-1f6af7a29c7b"
   },
   "outputs": [],
   "source": [
    "print(df_tokenized['input_ids'].shape, df_tokenized['attention_mask'].shape)"
   ]
  },
  {
   "cell_type": "code",
   "execution_count": null,
   "metadata": {},
   "outputs": [],
   "source": [
    "def compute_metrics(eval_pred):\n",
    "    load_accuracy = evaluate.load('accuracy')\n",
    "    load_f1 = evaluate.load('f1')\n",
    "\n",
    "    logits, labels = eval_pred\n",
    "\n",
    "    predictions = np.argmax(logits, axis=-1)\n",
    "    accuracy = load_accuracy.compute(predictions=predictions, references=labels)[\"accuracy\"]\n",
    "    f1 = load_f1.compute(predictions=predictions, references=labels)[\"f1\"]\n",
    "    return {\"accuracy\": accuracy, \"f1\": f1}"
   ]
  },
  {
   "cell_type": "markdown",
   "metadata": {
    "id": "0mfR-0xzQ5KS"
   },
   "source": [
    "### **Dataloader**"
   ]
  },
  {
   "cell_type": "code",
   "execution_count": null,
   "metadata": {
    "id": "Fc7d9XejQ8bW"
   },
   "outputs": [],
   "source": [
    "class TextDataset(Dataset):\n",
    "    def __init__(self, X, y):\n",
    "        self.X = X\n",
    "        self.y = y\n",
    "        self.len = len(y)\n",
    "    \n",
    "    def __len__(self):\n",
    "        return self.len\n",
    "    \n",
    "    def __getitem__(self, idx):\n",
    "        item = {key: val[idx] for key, val in self.X.items()} \n",
    "        item['labels'] = self.y[idx]\n",
    "        return item"
   ]
  },
  {
   "cell_type": "code",
   "execution_count": null,
   "metadata": {
    "id": "Ek_iNpGpRmky"
   },
   "outputs": [],
   "source": [
    "dataset = TextDataset(df_tokenized, torch.tensor(df_labeled['imdb_label'].to_numpy()))"
   ]
  },
  {
   "cell_type": "code",
   "execution_count": null,
   "metadata": {
    "colab": {
     "base_uri": "https://localhost:8080/"
    },
    "id": "wPQhdpNIRqtd",
    "outputId": "52b37dc0-4279-4a7a-8773-1635bd734f7b"
   },
   "outputs": [],
   "source": [
    "n_train_instances = int(np.round(dataset.len * TRAIN_RATIO))\n",
    "n_val_instances = int(np.round(dataset.len * VAL_RATIO))\n",
    "n_test_instances = int(np.round(dataset.len * TEST_RATIO))\n",
    "print(f'Treino: {n_train_instances}, Val.: {n_val_instances}, Teste: {n_test_instances}')"
   ]
  },
  {
   "cell_type": "code",
   "execution_count": null,
   "metadata": {
    "id": "Bb87aA3USBnJ"
   },
   "outputs": [],
   "source": [
    "train_split, val_split, test_split = torch.utils.data.random_split(dataset, [n_train_instances, n_val_instances, n_test_instances])"
   ]
  },
  {
   "cell_type": "markdown",
   "metadata": {},
   "source": [
    "## **Treinando com framework trainer**"
   ]
  },
  {
   "cell_type": "code",
   "execution_count": null,
   "metadata": {},
   "outputs": [],
   "source": [
    "model_name = 'bert-base-uncased'\n",
    "model = BertForSequenceClassification.from_pretrained(model_name, num_labels=2, output_attentions=False, output_hidden_states=False)\n",
    "model.to(device)"
   ]
  },
  {
   "cell_type": "code",
   "execution_count": null,
   "metadata": {},
   "outputs": [],
   "source": [
    "repo_name = \"./finetuning-sentiment-go-emotions\"\n",
    " \n",
    "training_args = TrainingArguments(\n",
    "   output_dir=repo_name,\n",
    "   learning_rate=2e-5,\n",
    "   per_device_train_batch_size=16,\n",
    "   per_device_eval_batch_size=16,\n",
    "   num_train_epochs=3,\n",
    "   evaluation_strategy='epoch',\n",
    "   save_total_limit=5\n",
    ")\n",
    " \n",
    "trainer = Trainer(\n",
    "   model=model,\n",
    "   args=training_args,\n",
    "   train_dataset=train_split,\n",
    "   eval_dataset=val_split,\n",
    "   tokenizer=tokenizer,\n",
    "   data_collator=DataCollatorWithPadding(tokenizer=tokenizer),\n",
    "   compute_metrics=compute_metrics,\n",
    ")"
   ]
  },
  {
   "cell_type": "code",
   "execution_count": null,
   "metadata": {},
   "outputs": [],
   "source": [
    "trainer.train()"
   ]
  },
  {
   "cell_type": "code",
   "execution_count": null,
   "metadata": {},
   "outputs": [],
   "source": [
    "trainer.evaluate()"
   ]
  },
  {
   "cell_type": "code",
   "execution_count": null,
   "metadata": {},
   "outputs": [],
   "source": [
    "torch.save(model.state_dict(), './model_weights_trainer.pth')"
   ]
  },
  {
   "cell_type": "markdown",
   "metadata": {},
   "source": [
    "## **Training with training loop**"
   ]
  },
  {
   "cell_type": "code",
   "execution_count": null,
   "metadata": {},
   "outputs": [],
   "source": [
    "train_loader = torch.utils.data.DataLoader(train_split, batch_size=BATCH_SIZE, shuffle=True)\n",
    "val_loader = torch.utils.data.DataLoader(val_split, batch_size=BATCH_SIZE, shuffle=True)\n",
    "test_loader = torch.utils.data.DataLoader(test_split, batch_size=BATCH_SIZE, shuffle=True)"
   ]
  },
  {
   "cell_type": "code",
   "execution_count": null,
   "metadata": {
    "colab": {
     "base_uri": "https://localhost:8080/"
    },
    "id": "mOjn0p7dSeiS",
    "outputId": "23b53d44-025f-41ed-862c-dacb20738be9"
   },
   "outputs": [],
   "source": [
    "epochs = 5\n",
    "steps_per_epoch = 200\n",
    "epoch_validation_samples = 50\n",
    "\n",
    "model_name = 'bert-base-uncased'\n",
    "model = BertForSequenceClassification.from_pretrained(model_name, num_labels=2, output_attentions=False, output_hidden_states=False)\n",
    "model.to(device)\n",
    "\n",
    "optim = torch.optim.Adam(model.parameters(), lr=2e-5)"
   ]
  },
  {
   "cell_type": "code",
   "execution_count": null,
   "metadata": {
    "id": "RmWfnXEDTxhL"
   },
   "outputs": [],
   "source": [
    "def model_step(model, batch_data, cur_step, compute_evaluation=False, optimizer=None):\n",
    "    if cur_step == 'train':\n",
    "        model.train()\n",
    "    elif cur_step == 'val':\n",
    "        model.eval()\n",
    "    \n",
    "    input_ids = batch_data['input_ids'].to(device)\n",
    "    attention_mask = batch_data['attention_mask'].to(device)\n",
    "    labels = batch_data['labels'].to(device)\n",
    "\n",
    "    output = model(input_ids, attention_mask=attention_mask, labels=labels.long())\n",
    "    \n",
    "    loss = output.loss\n",
    "    logits = output.logits\n",
    "\n",
    "    if cur_step == 'train':\n",
    "        optimizer.zero_grad()\n",
    "        loss.backward()\n",
    "        optimizer.step()\n",
    "    \n",
    "    evaluation = None\n",
    "    if compute_evaluation:\n",
    "        softmax_predictions = torch.nn.functional.softmax(logits, dim=1)\n",
    "        evaluation = compute_metrics([softmax_predictions.detach().cpu(), labels])\n",
    "\n",
    "    return loss.item() * labels.shape[0], evaluation"
   ]
  },
  {
   "cell_type": "code",
   "execution_count": null,
   "metadata": {
    "colab": {
     "base_uri": "https://localhost:8080/",
     "height": 310
    },
    "id": "fSKbMA79TP_4",
    "outputId": "1c19b579-98ad-4318-d4c2-f231844ce8d2"
   },
   "outputs": [],
   "source": [
    "epoch_data = {}\n",
    "\n",
    "for i in range(epochs):\n",
    "    epoch_data[i] = {'train': [], 'validation': []}\n",
    "    num_train_examples = 0\n",
    "    num_val_examples = 0\n",
    "\n",
    "    train_hits = 0\n",
    "    val_hits = 0\n",
    "\n",
    "    train_bar = tqdm(total=len(train_loader), desc=f\"Train\", unit=\"steps\", position=0, leave=False)\n",
    "    val_bar   = tqdm(total=epoch_validation_samples, desc=f\"Validation\", unit=\"samples\", position=0, leave=False)\n",
    "\n",
    "    train_running_loss = 0\n",
    "    for batch_id, batch_data in enumerate(train_loader):\n",
    "        if (batch_id + 1) % 500 == 0:\n",
    "            loss, evaluation = model_step(model, batch_data, 'train', True, optim)\n",
    "            epoch_data[i]['train'].append(evaluation)\n",
    "        else:\n",
    "            loss, _ = model_step(model, batch_data, 'train', False, optim)\n",
    "\n",
    "        train_running_loss += loss\n",
    "\n",
    "        train_bar.update(1)\n",
    "\n",
    "    val_running_loss = 0\n",
    "    for batch_id, batch_data in enumerate(val_loader):\n",
    "        loss, evaluation = model_step(model, batch_data, 'val', True)\n",
    "        \n",
    "        val_running_loss += loss\n",
    "\n",
    "        epoch_data[i]['validation'].append(evaluation)\n",
    "        \n",
    "        val_bar.update(1)\n",
    "\n",
    "        if (batch_id + 1) % epoch_validation_samples == 0:\n",
    "            break\n",
    "    \n",
    "    train_acc = np.mean([eval['accuracy'] for eval in epoch_data[i]['train']])\n",
    "    val_acc = np.mean([eval['accuracy'] for eval in epoch_data[i]['validation']])\n",
    "    \n",
    "    train_loss = train_running_loss / len(train_loader.sampler)\n",
    "    valid_loss = val_running_loss / len(val_loader.sampler)\n",
    "\n",
    "    print(f\"Epoch summary [{i+1}/{epochs}]\\t Train loss: {train_loss}\\t Train acc: {train_acc}\\t Val loss: {valid_loss}\\t Val acc: {val_acc}\")"
   ]
  },
  {
   "cell_type": "code",
   "execution_count": null,
   "metadata": {},
   "outputs": [],
   "source": [
    "torch.save(model.state_dict(), './model_weights_loop.pth')"
   ]
  },
  {
   "cell_type": "markdown",
   "metadata": {},
   "source": [
    "## **Avaliando modelo no IMDB**"
   ]
  },
  {
   "cell_type": "code",
   "execution_count": null,
   "metadata": {},
   "outputs": [],
   "source": [
    "import re\n",
    "import numpy as np\n",
    "import pandas as pd\n",
    "from tqdm import tqdm\n",
    "\n",
    "import seaborn as sns\n",
    "sns.set()\n",
    "\n",
    "import matplotlib.pyplot as plt\n",
    "\n",
    "import torch\n",
    "from torch.utils.data import Dataset, DataLoader\n",
    "\n",
    "import evaluate\n",
    "\n",
    "from transformers import AutoTokenizer\n",
    "from transformers import BertForSequenceClassification\n",
    "# from transformers import TrainingArguments, Trainer\n",
    "# from transformers import DataCollatorWithPadding"
   ]
  },
  {
   "cell_type": "code",
   "execution_count": null,
   "metadata": {},
   "outputs": [],
   "source": [
    "device = torch.device('cuda:0' if torch.cuda.is_available() else 'cpu')\n",
    "print(f'{device=}')"
   ]
  },
  {
   "cell_type": "code",
   "execution_count": null,
   "metadata": {},
   "outputs": [],
   "source": [
    "torch.__version__"
   ]
  },
  {
   "cell_type": "code",
   "execution_count": null,
   "metadata": {},
   "outputs": [],
   "source": [
    "import torch\n",
    "torch.__version__"
   ]
  },
  {
   "cell_type": "code",
   "execution_count": null,
   "metadata": {},
   "outputs": [],
   "source": [
    "import torchaudio\n",
    "torchaudio.__version__"
   ]
  },
  {
   "cell_type": "code",
   "execution_count": null,
   "metadata": {},
   "outputs": [],
   "source": [
    "import torchvision\n",
    "torchvision.__version__"
   ]
  },
  {
   "cell_type": "code",
   "execution_count": null,
   "metadata": {},
   "outputs": [],
   "source": [
    "state_dict = torch.load('model_weights_loop.pth')"
   ]
  },
  {
   "cell_type": "code",
   "execution_count": null,
   "metadata": {},
   "outputs": [],
   "source": [
    "state_dict = {k: v for k,v in state_dict.items() if k != 'bert.embeddings.position_ids'}"
   ]
  },
  {
   "cell_type": "code",
   "execution_count": null,
   "metadata": {},
   "outputs": [],
   "source": [
    "model_name = 'bert-base-uncased'\n",
    "model = BertForSequenceClassification.from_pretrained(model_name, num_labels=2, output_attentions=False, output_hidden_states=False)\n",
    "model.load_state_dict(state_dict)\n",
    "model.to(device)"
   ]
  },
  {
   "cell_type": "code",
   "execution_count": null,
   "metadata": {},
   "outputs": [],
   "source": [
    "df_imdb = pd.read_csv('IMDB_Dataset.csv')"
   ]
  },
  {
   "cell_type": "code",
   "execution_count": null,
   "metadata": {},
   "outputs": [],
   "source": [
    "df_imdb.head()"
   ]
  },
  {
   "cell_type": "code",
   "execution_count": null,
   "metadata": {},
   "outputs": [],
   "source": [
    "df_imdb['sentiment'].unique()"
   ]
  },
  {
   "cell_type": "code",
   "execution_count": null,
   "metadata": {},
   "outputs": [],
   "source": [
    "df_imdb['label'] = df_imdb.apply(lambda x: 1 if x.loc['sentiment'] == 'positive' else 0, axis=1)"
   ]
  },
  {
   "cell_type": "code",
   "execution_count": null,
   "metadata": {},
   "outputs": [],
   "source": [
    "def preprocess_with_emojis(text):\n",
    "    preprocessed_text = re.sub(r'http\\S+', '', text) # removendo links\n",
    "    preprocessed_text = preprocessed_text.replace('\"', '')    # removendo aspas\n",
    "    preprocessed_text = re.sub(\"[-*!,$><:.+?=]\", '', preprocessed_text) # remove outras pontuações\n",
    "\n",
    "    preprocessed_text = re.sub(r'[.]\\s+', '', preprocessed_text)  # removendo reticências \n",
    "    # emojis = re.compile(\"[\"\n",
    "    #     u\"\\U0001F600-\\U0001F64F\"  # emoticons\n",
    "    #     u\"\\U0001F300-\\U0001F5FF\"  # symbols & pictographs\n",
    "    #     u\"\\U0001F680-\\U0001F6FF\"  # transport & map symbols\n",
    "    #     u\"\\U0001F1E0-\\U0001F1FF\"  # flags (iOS)\n",
    "    #     u\"\\U00002500-\\U00002BEF\"  # chinese char\n",
    "    #     u\"\\U00002702-\\U000027B0\"\n",
    "    #     u\"\\U00002702-\\U000027B0\"\n",
    "    #     u\"\\U000024C2-\\U0001F251\"\n",
    "    #     u\"\\U0001f926-\\U0001f937\"\n",
    "    #     u\"\\U00010000-\\U0010ffff\"\n",
    "    #     u\"\\u2640-\\u2642\" \n",
    "    #     u\"\\u2600-\\u2B55\"\n",
    "    #     u\"\\u200d\"\n",
    "    #     u\"\\u23cf\"\n",
    "    #     u\"\\u23e9\"\n",
    "    #     u\"\\u231a\"\n",
    "    #     u\"\\ufe0f\"  # dingbats\n",
    "    #     u\"\\u3030\"\n",
    "    #                   \"]+\", re.UNICODE)\n",
    "    # preprocessed_text = re.sub(emojis, ' ', preprocessed_text) # removendo emojis\n",
    "    preprocessed_text = re.sub(r'  ', ' ', preprocessed_text) # removendo espaços extras\n",
    "    \n",
    "    return preprocessed_text.lower()  \n",
    "\n",
    "def pre_process_text(text):\n",
    "    preprocessed_text = re.sub(r'http\\S+', '', text) # removendo links\n",
    "    preprocessed_text = preprocessed_text.replace('\"', '')    # removendo aspas\n",
    "    preprocessed_text = re.sub(r\"<\\S*\\ ?\\/?>\", '', preprocessed_text)\n",
    "    preprocessed_text = re.sub(\"[-*!,$><:.+?=]\", '', preprocessed_text) # remove outras pontuações\n",
    "\n",
    "    preprocessed_text = re.sub(r'[.]\\s+', '', preprocessed_text)  # removendo reticências \n",
    "    preprocessed_text = re.sub(r'  ', ' ', preprocessed_text) # removendo espaços extras\n",
    "    \n",
    "    return preprocessed_text.lower()"
   ]
  },
  {
   "cell_type": "code",
   "execution_count": null,
   "metadata": {},
   "outputs": [],
   "source": [
    "df_imdb['preprocessed_text'] = df_imdb['review'].apply(pre_process_text)"
   ]
  },
  {
   "cell_type": "code",
   "execution_count": null,
   "metadata": {},
   "outputs": [],
   "source": [
    "df_imdb.head()"
   ]
  },
  {
   "cell_type": "code",
   "execution_count": null,
   "metadata": {},
   "outputs": [],
   "source": [
    "base = 'bert-base-uncased'\n",
    "tokenizer = AutoTokenizer.from_pretrained(base)"
   ]
  },
  {
   "cell_type": "code",
   "execution_count": null,
   "metadata": {},
   "outputs": [],
   "source": [
    "imdb_tokenized = tokenizer.encode(df_imdb['preprocessed_text'].to_list(), return_tensors='pt', padding=True, truncation=True)"
   ]
  },
  {
   "cell_type": "code",
   "execution_count": null,
   "metadata": {},
   "outputs": [],
   "source": [
    "imdb_tokenized"
   ]
  },
  {
   "cell_type": "code",
   "execution_count": null,
   "metadata": {},
   "outputs": [],
   "source": [
    "class TextDataset(Dataset):\n",
    "    def __init__(self, X, y):\n",
    "        self.X = X\n",
    "        self.y = y\n",
    "        self.len = len(y)\n",
    "    \n",
    "    def __len__(self):\n",
    "        return self.len\n",
    "    \n",
    "    def __getitem__(self, idx):\n",
    "        item = {key: val[idx] for key, val in self.X.items()} \n",
    "        item['labels'] = self.y[idx]\n",
    "        return item"
   ]
  },
  {
   "cell_type": "code",
   "execution_count": null,
   "metadata": {},
   "outputs": [],
   "source": [
    "dataset = TextDataset(imdb_tokenized, torch.tensor(df_imdb['label'].to_numpy()))"
   ]
  },
  {
   "cell_type": "code",
   "execution_count": null,
   "metadata": {},
   "outputs": [],
   "source": [
    "imdb_tokenized.keys()"
   ]
  },
  {
   "cell_type": "code",
   "execution_count": null,
   "metadata": {},
   "outputs": [],
   "source": [
    "imdb_dataloader = DataLoader(dataset, batch_size=16, shuffle=True)"
   ]
  },
  {
   "cell_type": "code",
   "execution_count": null,
   "metadata": {},
   "outputs": [],
   "source": [
    "len(imdb_dataloader)"
   ]
  },
  {
   "cell_type": "code",
   "execution_count": null,
   "metadata": {},
   "outputs": [],
   "source": [
    "next(iter(imdb_dataloader))"
   ]
  },
  {
   "cell_type": "code",
   "execution_count": null,
   "metadata": {},
   "outputs": [],
   "source": [
    "metric = evaluate.load(\"accuracy\")\n",
    "\n",
    "bar = tqdm(total=len(imdb_dataloader), desc=f\"Evaluation on imdb-dataset\", unit=\"steps\", position=0, leave=False)\n",
    "\n",
    "model.eval()\n",
    "for batch in imdb_dataloader:\n",
    "    batch = {k: v.to(device) for k, v in batch.items()}\n",
    "    print(batch.keys())\n",
    "    with torch.no_grad():\n",
    "        outputs = model(**batch)\n",
    "\n",
    "    logits = outputs.logits\n",
    "    predictions = torch.argmax(logits, dim=-1)\n",
    "    metric.add_batch(predictions=predictions, references=batch[\"labels\"])\n",
    "    bar.update(1)\n",
    "metric.compute()"
   ]
  },
  {
   "cell_type": "code",
   "execution_count": null,
   "metadata": {},
   "outputs": [],
   "source": [
    "outputs"
   ]
  },
  {
   "cell_type": "markdown",
   "metadata": {},
   "source": [
    "## TODO: \n",
    "- Mudar de classes binárias (positivo/negativo) para múltiplas classes: alegria, tristeza, raiva,...\n",
    "- Incrementar e pesquisar mais sobre o pré-processamento para modelos de linguagem natural + BERT\n",
    "- Treinar o modelo\n",
    "- Comparar resultados de alguma forma com o IMDB_dataset"
   ]
  }
 ],
 "metadata": {
  "accelerator": "GPU",
  "colab": {
   "gpuType": "T4",
   "provenance": []
  },
  "gpuClass": "standard",
  "kernelspec": {
   "display_name": "Python 3 (ipykernel)",
   "language": "python",
   "name": "python3"
  },
  "language_info": {
   "codemirror_mode": {
    "name": "ipython",
    "version": 3
   },
   "file_extension": ".py",
   "mimetype": "text/x-python",
   "name": "python",
   "nbconvert_exporter": "python",
   "pygments_lexer": "ipython3",
   "version": "3.11.3"
  },
  "widgets": {
   "application/vnd.jupyter.widget-state+json": {
    "018b49955c754a7482e858bd5946597c": {
     "model_module": "@jupyter-widgets/controls",
     "model_module_version": "1.5.0",
     "model_name": "HTMLModel",
     "state": {
      "_dom_classes": [],
      "_model_module": "@jupyter-widgets/controls",
      "_model_module_version": "1.5.0",
      "_model_name": "HTMLModel",
      "_view_count": null,
      "_view_module": "@jupyter-widgets/controls",
      "_view_module_version": "1.5.0",
      "_view_name": "HTMLView",
      "description": "",
      "description_tooltip": null,
      "layout": "IPY_MODEL_f759fe3b1d9d443ead8755fb1fdcac3c",
      "placeholder": "​",
      "style": "IPY_MODEL_f8249641a1ac4190b358c3dd4982fa73",
      "value": " 466k/466k [00:00&lt;00:00, 2.84MB/s]"
     }
    },
    "064f63b734b8444490c6b562689ed91d": {
     "model_module": "@jupyter-widgets/controls",
     "model_module_version": "1.5.0",
     "model_name": "ProgressStyleModel",
     "state": {
      "_model_module": "@jupyter-widgets/controls",
      "_model_module_version": "1.5.0",
      "_model_name": "ProgressStyleModel",
      "_view_count": null,
      "_view_module": "@jupyter-widgets/base",
      "_view_module_version": "1.2.0",
      "_view_name": "StyleView",
      "bar_color": null,
      "description_width": ""
     }
    },
    "0749dce4ec5446d8af903bbf81d847f4": {
     "model_module": "@jupyter-widgets/controls",
     "model_module_version": "1.5.0",
     "model_name": "DescriptionStyleModel",
     "state": {
      "_model_module": "@jupyter-widgets/controls",
      "_model_module_version": "1.5.0",
      "_model_name": "DescriptionStyleModel",
      "_view_count": null,
      "_view_module": "@jupyter-widgets/base",
      "_view_module_version": "1.2.0",
      "_view_name": "StyleView",
      "description_width": ""
     }
    },
    "0a1309ab5a7649b090bb759480309167": {
     "model_module": "@jupyter-widgets/controls",
     "model_module_version": "1.5.0",
     "model_name": "DescriptionStyleModel",
     "state": {
      "_model_module": "@jupyter-widgets/controls",
      "_model_module_version": "1.5.0",
      "_model_name": "DescriptionStyleModel",
      "_view_count": null,
      "_view_module": "@jupyter-widgets/base",
      "_view_module_version": "1.2.0",
      "_view_name": "StyleView",
      "description_width": ""
     }
    },
    "0c7918746f764b80807e3591d7263889": {
     "model_module": "@jupyter-widgets/controls",
     "model_module_version": "1.5.0",
     "model_name": "DescriptionStyleModel",
     "state": {
      "_model_module": "@jupyter-widgets/controls",
      "_model_module_version": "1.5.0",
      "_model_name": "DescriptionStyleModel",
      "_view_count": null,
      "_view_module": "@jupyter-widgets/base",
      "_view_module_version": "1.2.0",
      "_view_name": "StyleView",
      "description_width": ""
     }
    },
    "108763e0c75d44e9969c883477664e70": {
     "model_module": "@jupyter-widgets/base",
     "model_module_version": "1.2.0",
     "model_name": "LayoutModel",
     "state": {
      "_model_module": "@jupyter-widgets/base",
      "_model_module_version": "1.2.0",
      "_model_name": "LayoutModel",
      "_view_count": null,
      "_view_module": "@jupyter-widgets/base",
      "_view_module_version": "1.2.0",
      "_view_name": "LayoutView",
      "align_content": null,
      "align_items": null,
      "align_self": null,
      "border": null,
      "bottom": null,
      "display": null,
      "flex": null,
      "flex_flow": null,
      "grid_area": null,
      "grid_auto_columns": null,
      "grid_auto_flow": null,
      "grid_auto_rows": null,
      "grid_column": null,
      "grid_gap": null,
      "grid_row": null,
      "grid_template_areas": null,
      "grid_template_columns": null,
      "grid_template_rows": null,
      "height": null,
      "justify_content": null,
      "justify_items": null,
      "left": null,
      "margin": null,
      "max_height": null,
      "max_width": null,
      "min_height": null,
      "min_width": null,
      "object_fit": null,
      "object_position": null,
      "order": null,
      "overflow": null,
      "overflow_x": null,
      "overflow_y": null,
      "padding": null,
      "right": null,
      "top": null,
      "visibility": null,
      "width": null
     }
    },
    "1230828bdca7411ea2c00d323d030dc9": {
     "model_module": "@jupyter-widgets/controls",
     "model_module_version": "1.5.0",
     "model_name": "HTMLModel",
     "state": {
      "_dom_classes": [],
      "_model_module": "@jupyter-widgets/controls",
      "_model_module_version": "1.5.0",
      "_model_name": "HTMLModel",
      "_view_count": null,
      "_view_module": "@jupyter-widgets/controls",
      "_view_module_version": "1.5.0",
      "_view_name": "HTMLView",
      "description": "",
      "description_tooltip": null,
      "layout": "IPY_MODEL_416a838f4ab94ab7ab78d0c2205957fe",
      "placeholder": "​",
      "style": "IPY_MODEL_49936f8f0b3b4614ad0977a60fe868c5",
      "value": "Downloading (…)okenizer_config.json: 100%"
     }
    },
    "12715c584ac24d279d0bca01f9f969f1": {
     "model_module": "@jupyter-widgets/base",
     "model_module_version": "1.2.0",
     "model_name": "LayoutModel",
     "state": {
      "_model_module": "@jupyter-widgets/base",
      "_model_module_version": "1.2.0",
      "_model_name": "LayoutModel",
      "_view_count": null,
      "_view_module": "@jupyter-widgets/base",
      "_view_module_version": "1.2.0",
      "_view_name": "LayoutView",
      "align_content": null,
      "align_items": null,
      "align_self": null,
      "border": null,
      "bottom": null,
      "display": null,
      "flex": null,
      "flex_flow": null,
      "grid_area": null,
      "grid_auto_columns": null,
      "grid_auto_flow": null,
      "grid_auto_rows": null,
      "grid_column": null,
      "grid_gap": null,
      "grid_row": null,
      "grid_template_areas": null,
      "grid_template_columns": null,
      "grid_template_rows": null,
      "height": null,
      "justify_content": null,
      "justify_items": null,
      "left": null,
      "margin": null,
      "max_height": null,
      "max_width": null,
      "min_height": null,
      "min_width": null,
      "object_fit": null,
      "object_position": null,
      "order": null,
      "overflow": null,
      "overflow_x": null,
      "overflow_y": null,
      "padding": null,
      "right": null,
      "top": null,
      "visibility": null,
      "width": null
     }
    },
    "1b005d3d23814f4091e423bb3d41fd1b": {
     "model_module": "@jupyter-widgets/base",
     "model_module_version": "1.2.0",
     "model_name": "LayoutModel",
     "state": {
      "_model_module": "@jupyter-widgets/base",
      "_model_module_version": "1.2.0",
      "_model_name": "LayoutModel",
      "_view_count": null,
      "_view_module": "@jupyter-widgets/base",
      "_view_module_version": "1.2.0",
      "_view_name": "LayoutView",
      "align_content": null,
      "align_items": null,
      "align_self": null,
      "border": null,
      "bottom": null,
      "display": null,
      "flex": null,
      "flex_flow": null,
      "grid_area": null,
      "grid_auto_columns": null,
      "grid_auto_flow": null,
      "grid_auto_rows": null,
      "grid_column": null,
      "grid_gap": null,
      "grid_row": null,
      "grid_template_areas": null,
      "grid_template_columns": null,
      "grid_template_rows": null,
      "height": null,
      "justify_content": null,
      "justify_items": null,
      "left": null,
      "margin": null,
      "max_height": null,
      "max_width": null,
      "min_height": null,
      "min_width": null,
      "object_fit": null,
      "object_position": null,
      "order": null,
      "overflow": null,
      "overflow_x": null,
      "overflow_y": null,
      "padding": null,
      "right": null,
      "top": null,
      "visibility": null,
      "width": null
     }
    },
    "1cf7798a126242eda4f5247ac2a8e253": {
     "model_module": "@jupyter-widgets/base",
     "model_module_version": "1.2.0",
     "model_name": "LayoutModel",
     "state": {
      "_model_module": "@jupyter-widgets/base",
      "_model_module_version": "1.2.0",
      "_model_name": "LayoutModel",
      "_view_count": null,
      "_view_module": "@jupyter-widgets/base",
      "_view_module_version": "1.2.0",
      "_view_name": "LayoutView",
      "align_content": null,
      "align_items": null,
      "align_self": null,
      "border": null,
      "bottom": null,
      "display": null,
      "flex": null,
      "flex_flow": null,
      "grid_area": null,
      "grid_auto_columns": null,
      "grid_auto_flow": null,
      "grid_auto_rows": null,
      "grid_column": null,
      "grid_gap": null,
      "grid_row": null,
      "grid_template_areas": null,
      "grid_template_columns": null,
      "grid_template_rows": null,
      "height": null,
      "justify_content": null,
      "justify_items": null,
      "left": null,
      "margin": null,
      "max_height": null,
      "max_width": null,
      "min_height": null,
      "min_width": null,
      "object_fit": null,
      "object_position": null,
      "order": null,
      "overflow": null,
      "overflow_x": null,
      "overflow_y": null,
      "padding": null,
      "right": null,
      "top": null,
      "visibility": null,
      "width": null
     }
    },
    "298808cdde6443a7a27107e4051e94d3": {
     "model_module": "@jupyter-widgets/controls",
     "model_module_version": "1.5.0",
     "model_name": "HTMLModel",
     "state": {
      "_dom_classes": [],
      "_model_module": "@jupyter-widgets/controls",
      "_model_module_version": "1.5.0",
      "_model_name": "HTMLModel",
      "_view_count": null,
      "_view_module": "@jupyter-widgets/controls",
      "_view_module_version": "1.5.0",
      "_view_name": "HTMLView",
      "description": "",
      "description_tooltip": null,
      "layout": "IPY_MODEL_9b319c99480e4b8aad0b8efbecf9e484",
      "placeholder": "​",
      "style": "IPY_MODEL_4ce898cb9bb14b8189a1e07e7a9a4245",
      "value": "Downloading (…)/main/tokenizer.json: 100%"
     }
    },
    "2db8efea85414ccd90cf29ab1828fa71": {
     "model_module": "@jupyter-widgets/base",
     "model_module_version": "1.2.0",
     "model_name": "LayoutModel",
     "state": {
      "_model_module": "@jupyter-widgets/base",
      "_model_module_version": "1.2.0",
      "_model_name": "LayoutModel",
      "_view_count": null,
      "_view_module": "@jupyter-widgets/base",
      "_view_module_version": "1.2.0",
      "_view_name": "LayoutView",
      "align_content": null,
      "align_items": null,
      "align_self": null,
      "border": null,
      "bottom": null,
      "display": null,
      "flex": null,
      "flex_flow": null,
      "grid_area": null,
      "grid_auto_columns": null,
      "grid_auto_flow": null,
      "grid_auto_rows": null,
      "grid_column": null,
      "grid_gap": null,
      "grid_row": null,
      "grid_template_areas": null,
      "grid_template_columns": null,
      "grid_template_rows": null,
      "height": null,
      "justify_content": null,
      "justify_items": null,
      "left": null,
      "margin": null,
      "max_height": null,
      "max_width": null,
      "min_height": null,
      "min_width": null,
      "object_fit": null,
      "object_position": null,
      "order": null,
      "overflow": null,
      "overflow_x": null,
      "overflow_y": null,
      "padding": null,
      "right": null,
      "top": null,
      "visibility": null,
      "width": null
     }
    },
    "341f4058c4604dfc8a379e03190305a3": {
     "model_module": "@jupyter-widgets/controls",
     "model_module_version": "1.5.0",
     "model_name": "HTMLModel",
     "state": {
      "_dom_classes": [],
      "_model_module": "@jupyter-widgets/controls",
      "_model_module_version": "1.5.0",
      "_model_name": "HTMLModel",
      "_view_count": null,
      "_view_module": "@jupyter-widgets/controls",
      "_view_module_version": "1.5.0",
      "_view_name": "HTMLView",
      "description": "",
      "description_tooltip": null,
      "layout": "IPY_MODEL_fbde99897b844287a47bcc4fcc9e46e7",
      "placeholder": "​",
      "style": "IPY_MODEL_4ae2f11d315d47ba89ca54c7142b0cb7",
      "value": " 570/570 [00:00&lt;00:00, 37.2kB/s]"
     }
    },
    "410a9fc602ca4406866e54fa1f9f3042": {
     "model_module": "@jupyter-widgets/controls",
     "model_module_version": "1.5.0",
     "model_name": "ProgressStyleModel",
     "state": {
      "_model_module": "@jupyter-widgets/controls",
      "_model_module_version": "1.5.0",
      "_model_name": "ProgressStyleModel",
      "_view_count": null,
      "_view_module": "@jupyter-widgets/base",
      "_view_module_version": "1.2.0",
      "_view_name": "StyleView",
      "bar_color": null,
      "description_width": ""
     }
    },
    "416a838f4ab94ab7ab78d0c2205957fe": {
     "model_module": "@jupyter-widgets/base",
     "model_module_version": "1.2.0",
     "model_name": "LayoutModel",
     "state": {
      "_model_module": "@jupyter-widgets/base",
      "_model_module_version": "1.2.0",
      "_model_name": "LayoutModel",
      "_view_count": null,
      "_view_module": "@jupyter-widgets/base",
      "_view_module_version": "1.2.0",
      "_view_name": "LayoutView",
      "align_content": null,
      "align_items": null,
      "align_self": null,
      "border": null,
      "bottom": null,
      "display": null,
      "flex": null,
      "flex_flow": null,
      "grid_area": null,
      "grid_auto_columns": null,
      "grid_auto_flow": null,
      "grid_auto_rows": null,
      "grid_column": null,
      "grid_gap": null,
      "grid_row": null,
      "grid_template_areas": null,
      "grid_template_columns": null,
      "grid_template_rows": null,
      "height": null,
      "justify_content": null,
      "justify_items": null,
      "left": null,
      "margin": null,
      "max_height": null,
      "max_width": null,
      "min_height": null,
      "min_width": null,
      "object_fit": null,
      "object_position": null,
      "order": null,
      "overflow": null,
      "overflow_x": null,
      "overflow_y": null,
      "padding": null,
      "right": null,
      "top": null,
      "visibility": null,
      "width": null
     }
    },
    "4418165d579447db8d336ab25eb3e338": {
     "model_module": "@jupyter-widgets/controls",
     "model_module_version": "1.5.0",
     "model_name": "FloatProgressModel",
     "state": {
      "_dom_classes": [],
      "_model_module": "@jupyter-widgets/controls",
      "_model_module_version": "1.5.0",
      "_model_name": "FloatProgressModel",
      "_view_count": null,
      "_view_module": "@jupyter-widgets/controls",
      "_view_module_version": "1.5.0",
      "_view_name": "ProgressView",
      "bar_style": "success",
      "description": "",
      "description_tooltip": null,
      "layout": "IPY_MODEL_61b5e144377d4dcd9af41ec9f9d93400",
      "max": 570,
      "min": 0,
      "orientation": "horizontal",
      "style": "IPY_MODEL_410a9fc602ca4406866e54fa1f9f3042",
      "value": 570
     }
    },
    "4444ec23b27f4af0bd286f60aeec81a3": {
     "model_module": "@jupyter-widgets/controls",
     "model_module_version": "1.5.0",
     "model_name": "HTMLModel",
     "state": {
      "_dom_classes": [],
      "_model_module": "@jupyter-widgets/controls",
      "_model_module_version": "1.5.0",
      "_model_name": "HTMLModel",
      "_view_count": null,
      "_view_module": "@jupyter-widgets/controls",
      "_view_module_version": "1.5.0",
      "_view_name": "HTMLView",
      "description": "",
      "description_tooltip": null,
      "layout": "IPY_MODEL_b6af9fdc0bcf4b0e92886ceba2a63aa2",
      "placeholder": "​",
      "style": "IPY_MODEL_73149374edcf4b4a8a490c6a8e48e5cb",
      "value": " 232k/232k [00:00&lt;00:00, 1.44MB/s]"
     }
    },
    "49936f8f0b3b4614ad0977a60fe868c5": {
     "model_module": "@jupyter-widgets/controls",
     "model_module_version": "1.5.0",
     "model_name": "DescriptionStyleModel",
     "state": {
      "_model_module": "@jupyter-widgets/controls",
      "_model_module_version": "1.5.0",
      "_model_name": "DescriptionStyleModel",
      "_view_count": null,
      "_view_module": "@jupyter-widgets/base",
      "_view_module_version": "1.2.0",
      "_view_name": "StyleView",
      "description_width": ""
     }
    },
    "4ae2f11d315d47ba89ca54c7142b0cb7": {
     "model_module": "@jupyter-widgets/controls",
     "model_module_version": "1.5.0",
     "model_name": "DescriptionStyleModel",
     "state": {
      "_model_module": "@jupyter-widgets/controls",
      "_model_module_version": "1.5.0",
      "_model_name": "DescriptionStyleModel",
      "_view_count": null,
      "_view_module": "@jupyter-widgets/base",
      "_view_module_version": "1.2.0",
      "_view_name": "StyleView",
      "description_width": ""
     }
    },
    "4ce898cb9bb14b8189a1e07e7a9a4245": {
     "model_module": "@jupyter-widgets/controls",
     "model_module_version": "1.5.0",
     "model_name": "DescriptionStyleModel",
     "state": {
      "_model_module": "@jupyter-widgets/controls",
      "_model_module_version": "1.5.0",
      "_model_name": "DescriptionStyleModel",
      "_view_count": null,
      "_view_module": "@jupyter-widgets/base",
      "_view_module_version": "1.2.0",
      "_view_name": "StyleView",
      "description_width": ""
     }
    },
    "6065d35c66d3478ea36b0772143ad95c": {
     "model_module": "@jupyter-widgets/controls",
     "model_module_version": "1.5.0",
     "model_name": "HBoxModel",
     "state": {
      "_dom_classes": [],
      "_model_module": "@jupyter-widgets/controls",
      "_model_module_version": "1.5.0",
      "_model_name": "HBoxModel",
      "_view_count": null,
      "_view_module": "@jupyter-widgets/controls",
      "_view_module_version": "1.5.0",
      "_view_name": "HBoxView",
      "box_style": "",
      "children": [
       "IPY_MODEL_298808cdde6443a7a27107e4051e94d3",
       "IPY_MODEL_8dd295baec0c41469e16a08a09cfed7e",
       "IPY_MODEL_018b49955c754a7482e858bd5946597c"
      ],
      "layout": "IPY_MODEL_1cf7798a126242eda4f5247ac2a8e253"
     }
    },
    "61b5e144377d4dcd9af41ec9f9d93400": {
     "model_module": "@jupyter-widgets/base",
     "model_module_version": "1.2.0",
     "model_name": "LayoutModel",
     "state": {
      "_model_module": "@jupyter-widgets/base",
      "_model_module_version": "1.2.0",
      "_model_name": "LayoutModel",
      "_view_count": null,
      "_view_module": "@jupyter-widgets/base",
      "_view_module_version": "1.2.0",
      "_view_name": "LayoutView",
      "align_content": null,
      "align_items": null,
      "align_self": null,
      "border": null,
      "bottom": null,
      "display": null,
      "flex": null,
      "flex_flow": null,
      "grid_area": null,
      "grid_auto_columns": null,
      "grid_auto_flow": null,
      "grid_auto_rows": null,
      "grid_column": null,
      "grid_gap": null,
      "grid_row": null,
      "grid_template_areas": null,
      "grid_template_columns": null,
      "grid_template_rows": null,
      "height": null,
      "justify_content": null,
      "justify_items": null,
      "left": null,
      "margin": null,
      "max_height": null,
      "max_width": null,
      "min_height": null,
      "min_width": null,
      "object_fit": null,
      "object_position": null,
      "order": null,
      "overflow": null,
      "overflow_x": null,
      "overflow_y": null,
      "padding": null,
      "right": null,
      "top": null,
      "visibility": null,
      "width": null
     }
    },
    "630b46e33e404b329e9fb5a220256e68": {
     "model_module": "@jupyter-widgets/controls",
     "model_module_version": "1.5.0",
     "model_name": "FloatProgressModel",
     "state": {
      "_dom_classes": [],
      "_model_module": "@jupyter-widgets/controls",
      "_model_module_version": "1.5.0",
      "_model_name": "FloatProgressModel",
      "_view_count": null,
      "_view_module": "@jupyter-widgets/controls",
      "_view_module_version": "1.5.0",
      "_view_name": "ProgressView",
      "bar_style": "success",
      "description": "",
      "description_tooltip": null,
      "layout": "IPY_MODEL_12715c584ac24d279d0bca01f9f969f1",
      "max": 231508,
      "min": 0,
      "orientation": "horizontal",
      "style": "IPY_MODEL_064f63b734b8444490c6b562689ed91d",
      "value": 231508
     }
    },
    "64e13629ef25495cad8bdebbbc87efb8": {
     "model_module": "@jupyter-widgets/base",
     "model_module_version": "1.2.0",
     "model_name": "LayoutModel",
     "state": {
      "_model_module": "@jupyter-widgets/base",
      "_model_module_version": "1.2.0",
      "_model_name": "LayoutModel",
      "_view_count": null,
      "_view_module": "@jupyter-widgets/base",
      "_view_module_version": "1.2.0",
      "_view_name": "LayoutView",
      "align_content": null,
      "align_items": null,
      "align_self": null,
      "border": null,
      "bottom": null,
      "display": null,
      "flex": null,
      "flex_flow": null,
      "grid_area": null,
      "grid_auto_columns": null,
      "grid_auto_flow": null,
      "grid_auto_rows": null,
      "grid_column": null,
      "grid_gap": null,
      "grid_row": null,
      "grid_template_areas": null,
      "grid_template_columns": null,
      "grid_template_rows": null,
      "height": null,
      "justify_content": null,
      "justify_items": null,
      "left": null,
      "margin": null,
      "max_height": null,
      "max_width": null,
      "min_height": null,
      "min_width": null,
      "object_fit": null,
      "object_position": null,
      "order": null,
      "overflow": null,
      "overflow_x": null,
      "overflow_y": null,
      "padding": null,
      "right": null,
      "top": null,
      "visibility": null,
      "width": null
     }
    },
    "73149374edcf4b4a8a490c6a8e48e5cb": {
     "model_module": "@jupyter-widgets/controls",
     "model_module_version": "1.5.0",
     "model_name": "DescriptionStyleModel",
     "state": {
      "_model_module": "@jupyter-widgets/controls",
      "_model_module_version": "1.5.0",
      "_model_name": "DescriptionStyleModel",
      "_view_count": null,
      "_view_module": "@jupyter-widgets/base",
      "_view_module_version": "1.2.0",
      "_view_name": "StyleView",
      "description_width": ""
     }
    },
    "81f564d0193d48bd94821c18ab073d9a": {
     "model_module": "@jupyter-widgets/controls",
     "model_module_version": "1.5.0",
     "model_name": "HBoxModel",
     "state": {
      "_dom_classes": [],
      "_model_module": "@jupyter-widgets/controls",
      "_model_module_version": "1.5.0",
      "_model_name": "HBoxModel",
      "_view_count": null,
      "_view_module": "@jupyter-widgets/controls",
      "_view_module_version": "1.5.0",
      "_view_name": "HBoxView",
      "box_style": "",
      "children": [
       "IPY_MODEL_1230828bdca7411ea2c00d323d030dc9",
       "IPY_MODEL_98339c2ce5ff44e1a5c939a0891121d2",
       "IPY_MODEL_f9e965154dfa4e3cbd04c913d5a418ec"
      ],
      "layout": "IPY_MODEL_c6e25dedec574ae7bb2cdea93f76e114"
     }
    },
    "8dd295baec0c41469e16a08a09cfed7e": {
     "model_module": "@jupyter-widgets/controls",
     "model_module_version": "1.5.0",
     "model_name": "FloatProgressModel",
     "state": {
      "_dom_classes": [],
      "_model_module": "@jupyter-widgets/controls",
      "_model_module_version": "1.5.0",
      "_model_name": "FloatProgressModel",
      "_view_count": null,
      "_view_module": "@jupyter-widgets/controls",
      "_view_module_version": "1.5.0",
      "_view_name": "ProgressView",
      "bar_style": "success",
      "description": "",
      "description_tooltip": null,
      "layout": "IPY_MODEL_108763e0c75d44e9969c883477664e70",
      "max": 466062,
      "min": 0,
      "orientation": "horizontal",
      "style": "IPY_MODEL_b74ba9a7d9c441f0b600ad3babf41455",
      "value": 466062
     }
    },
    "917ff45836b5416892cb9e82235e3103": {
     "model_module": "@jupyter-widgets/controls",
     "model_module_version": "1.5.0",
     "model_name": "HBoxModel",
     "state": {
      "_dom_classes": [],
      "_model_module": "@jupyter-widgets/controls",
      "_model_module_version": "1.5.0",
      "_model_name": "HBoxModel",
      "_view_count": null,
      "_view_module": "@jupyter-widgets/controls",
      "_view_module_version": "1.5.0",
      "_view_name": "HBoxView",
      "box_style": "",
      "children": [
       "IPY_MODEL_a287798d55b445c9b6e2a7039c5e2c13",
       "IPY_MODEL_4418165d579447db8d336ab25eb3e338",
       "IPY_MODEL_341f4058c4604dfc8a379e03190305a3"
      ],
      "layout": "IPY_MODEL_64e13629ef25495cad8bdebbbc87efb8"
     }
    },
    "98339c2ce5ff44e1a5c939a0891121d2": {
     "model_module": "@jupyter-widgets/controls",
     "model_module_version": "1.5.0",
     "model_name": "FloatProgressModel",
     "state": {
      "_dom_classes": [],
      "_model_module": "@jupyter-widgets/controls",
      "_model_module_version": "1.5.0",
      "_model_name": "FloatProgressModel",
      "_view_count": null,
      "_view_module": "@jupyter-widgets/controls",
      "_view_module_version": "1.5.0",
      "_view_name": "ProgressView",
      "bar_style": "success",
      "description": "",
      "description_tooltip": null,
      "layout": "IPY_MODEL_f60b8f0a49eb4fe284a3d8366add29ca",
      "max": 28,
      "min": 0,
      "orientation": "horizontal",
      "style": "IPY_MODEL_e87f84973012488bbed438282b225ccb",
      "value": 28
     }
    },
    "9b319c99480e4b8aad0b8efbecf9e484": {
     "model_module": "@jupyter-widgets/base",
     "model_module_version": "1.2.0",
     "model_name": "LayoutModel",
     "state": {
      "_model_module": "@jupyter-widgets/base",
      "_model_module_version": "1.2.0",
      "_model_name": "LayoutModel",
      "_view_count": null,
      "_view_module": "@jupyter-widgets/base",
      "_view_module_version": "1.2.0",
      "_view_name": "LayoutView",
      "align_content": null,
      "align_items": null,
      "align_self": null,
      "border": null,
      "bottom": null,
      "display": null,
      "flex": null,
      "flex_flow": null,
      "grid_area": null,
      "grid_auto_columns": null,
      "grid_auto_flow": null,
      "grid_auto_rows": null,
      "grid_column": null,
      "grid_gap": null,
      "grid_row": null,
      "grid_template_areas": null,
      "grid_template_columns": null,
      "grid_template_rows": null,
      "height": null,
      "justify_content": null,
      "justify_items": null,
      "left": null,
      "margin": null,
      "max_height": null,
      "max_width": null,
      "min_height": null,
      "min_width": null,
      "object_fit": null,
      "object_position": null,
      "order": null,
      "overflow": null,
      "overflow_x": null,
      "overflow_y": null,
      "padding": null,
      "right": null,
      "top": null,
      "visibility": null,
      "width": null
     }
    },
    "9e201a64cbca48899176f1963b9469df": {
     "model_module": "@jupyter-widgets/controls",
     "model_module_version": "1.5.0",
     "model_name": "HBoxModel",
     "state": {
      "_dom_classes": [],
      "_model_module": "@jupyter-widgets/controls",
      "_model_module_version": "1.5.0",
      "_model_name": "HBoxModel",
      "_view_count": null,
      "_view_module": "@jupyter-widgets/controls",
      "_view_module_version": "1.5.0",
      "_view_name": "HBoxView",
      "box_style": "",
      "children": [
       "IPY_MODEL_fd478ff597d44c02a474cd2e638bed76",
       "IPY_MODEL_630b46e33e404b329e9fb5a220256e68",
       "IPY_MODEL_4444ec23b27f4af0bd286f60aeec81a3"
      ],
      "layout": "IPY_MODEL_1b005d3d23814f4091e423bb3d41fd1b"
     }
    },
    "a287798d55b445c9b6e2a7039c5e2c13": {
     "model_module": "@jupyter-widgets/controls",
     "model_module_version": "1.5.0",
     "model_name": "HTMLModel",
     "state": {
      "_dom_classes": [],
      "_model_module": "@jupyter-widgets/controls",
      "_model_module_version": "1.5.0",
      "_model_name": "HTMLModel",
      "_view_count": null,
      "_view_module": "@jupyter-widgets/controls",
      "_view_module_version": "1.5.0",
      "_view_name": "HTMLView",
      "description": "",
      "description_tooltip": null,
      "layout": "IPY_MODEL_c6801d01d89f47509e40dc7a64e72b25",
      "placeholder": "​",
      "style": "IPY_MODEL_0a1309ab5a7649b090bb759480309167",
      "value": "Downloading (…)lve/main/config.json: 100%"
     }
    },
    "b6af9fdc0bcf4b0e92886ceba2a63aa2": {
     "model_module": "@jupyter-widgets/base",
     "model_module_version": "1.2.0",
     "model_name": "LayoutModel",
     "state": {
      "_model_module": "@jupyter-widgets/base",
      "_model_module_version": "1.2.0",
      "_model_name": "LayoutModel",
      "_view_count": null,
      "_view_module": "@jupyter-widgets/base",
      "_view_module_version": "1.2.0",
      "_view_name": "LayoutView",
      "align_content": null,
      "align_items": null,
      "align_self": null,
      "border": null,
      "bottom": null,
      "display": null,
      "flex": null,
      "flex_flow": null,
      "grid_area": null,
      "grid_auto_columns": null,
      "grid_auto_flow": null,
      "grid_auto_rows": null,
      "grid_column": null,
      "grid_gap": null,
      "grid_row": null,
      "grid_template_areas": null,
      "grid_template_columns": null,
      "grid_template_rows": null,
      "height": null,
      "justify_content": null,
      "justify_items": null,
      "left": null,
      "margin": null,
      "max_height": null,
      "max_width": null,
      "min_height": null,
      "min_width": null,
      "object_fit": null,
      "object_position": null,
      "order": null,
      "overflow": null,
      "overflow_x": null,
      "overflow_y": null,
      "padding": null,
      "right": null,
      "top": null,
      "visibility": null,
      "width": null
     }
    },
    "b74ba9a7d9c441f0b600ad3babf41455": {
     "model_module": "@jupyter-widgets/controls",
     "model_module_version": "1.5.0",
     "model_name": "ProgressStyleModel",
     "state": {
      "_model_module": "@jupyter-widgets/controls",
      "_model_module_version": "1.5.0",
      "_model_name": "ProgressStyleModel",
      "_view_count": null,
      "_view_module": "@jupyter-widgets/base",
      "_view_module_version": "1.2.0",
      "_view_name": "StyleView",
      "bar_color": null,
      "description_width": ""
     }
    },
    "c6801d01d89f47509e40dc7a64e72b25": {
     "model_module": "@jupyter-widgets/base",
     "model_module_version": "1.2.0",
     "model_name": "LayoutModel",
     "state": {
      "_model_module": "@jupyter-widgets/base",
      "_model_module_version": "1.2.0",
      "_model_name": "LayoutModel",
      "_view_count": null,
      "_view_module": "@jupyter-widgets/base",
      "_view_module_version": "1.2.0",
      "_view_name": "LayoutView",
      "align_content": null,
      "align_items": null,
      "align_self": null,
      "border": null,
      "bottom": null,
      "display": null,
      "flex": null,
      "flex_flow": null,
      "grid_area": null,
      "grid_auto_columns": null,
      "grid_auto_flow": null,
      "grid_auto_rows": null,
      "grid_column": null,
      "grid_gap": null,
      "grid_row": null,
      "grid_template_areas": null,
      "grid_template_columns": null,
      "grid_template_rows": null,
      "height": null,
      "justify_content": null,
      "justify_items": null,
      "left": null,
      "margin": null,
      "max_height": null,
      "max_width": null,
      "min_height": null,
      "min_width": null,
      "object_fit": null,
      "object_position": null,
      "order": null,
      "overflow": null,
      "overflow_x": null,
      "overflow_y": null,
      "padding": null,
      "right": null,
      "top": null,
      "visibility": null,
      "width": null
     }
    },
    "c6e25dedec574ae7bb2cdea93f76e114": {
     "model_module": "@jupyter-widgets/base",
     "model_module_version": "1.2.0",
     "model_name": "LayoutModel",
     "state": {
      "_model_module": "@jupyter-widgets/base",
      "_model_module_version": "1.2.0",
      "_model_name": "LayoutModel",
      "_view_count": null,
      "_view_module": "@jupyter-widgets/base",
      "_view_module_version": "1.2.0",
      "_view_name": "LayoutView",
      "align_content": null,
      "align_items": null,
      "align_self": null,
      "border": null,
      "bottom": null,
      "display": null,
      "flex": null,
      "flex_flow": null,
      "grid_area": null,
      "grid_auto_columns": null,
      "grid_auto_flow": null,
      "grid_auto_rows": null,
      "grid_column": null,
      "grid_gap": null,
      "grid_row": null,
      "grid_template_areas": null,
      "grid_template_columns": null,
      "grid_template_rows": null,
      "height": null,
      "justify_content": null,
      "justify_items": null,
      "left": null,
      "margin": null,
      "max_height": null,
      "max_width": null,
      "min_height": null,
      "min_width": null,
      "object_fit": null,
      "object_position": null,
      "order": null,
      "overflow": null,
      "overflow_x": null,
      "overflow_y": null,
      "padding": null,
      "right": null,
      "top": null,
      "visibility": null,
      "width": null
     }
    },
    "e87f84973012488bbed438282b225ccb": {
     "model_module": "@jupyter-widgets/controls",
     "model_module_version": "1.5.0",
     "model_name": "ProgressStyleModel",
     "state": {
      "_model_module": "@jupyter-widgets/controls",
      "_model_module_version": "1.5.0",
      "_model_name": "ProgressStyleModel",
      "_view_count": null,
      "_view_module": "@jupyter-widgets/base",
      "_view_module_version": "1.2.0",
      "_view_name": "StyleView",
      "bar_color": null,
      "description_width": ""
     }
    },
    "ec48937136a347a3be3028dadbe721d0": {
     "model_module": "@jupyter-widgets/base",
     "model_module_version": "1.2.0",
     "model_name": "LayoutModel",
     "state": {
      "_model_module": "@jupyter-widgets/base",
      "_model_module_version": "1.2.0",
      "_model_name": "LayoutModel",
      "_view_count": null,
      "_view_module": "@jupyter-widgets/base",
      "_view_module_version": "1.2.0",
      "_view_name": "LayoutView",
      "align_content": null,
      "align_items": null,
      "align_self": null,
      "border": null,
      "bottom": null,
      "display": null,
      "flex": null,
      "flex_flow": null,
      "grid_area": null,
      "grid_auto_columns": null,
      "grid_auto_flow": null,
      "grid_auto_rows": null,
      "grid_column": null,
      "grid_gap": null,
      "grid_row": null,
      "grid_template_areas": null,
      "grid_template_columns": null,
      "grid_template_rows": null,
      "height": null,
      "justify_content": null,
      "justify_items": null,
      "left": null,
      "margin": null,
      "max_height": null,
      "max_width": null,
      "min_height": null,
      "min_width": null,
      "object_fit": null,
      "object_position": null,
      "order": null,
      "overflow": null,
      "overflow_x": null,
      "overflow_y": null,
      "padding": null,
      "right": null,
      "top": null,
      "visibility": null,
      "width": null
     }
    },
    "f60b8f0a49eb4fe284a3d8366add29ca": {
     "model_module": "@jupyter-widgets/base",
     "model_module_version": "1.2.0",
     "model_name": "LayoutModel",
     "state": {
      "_model_module": "@jupyter-widgets/base",
      "_model_module_version": "1.2.0",
      "_model_name": "LayoutModel",
      "_view_count": null,
      "_view_module": "@jupyter-widgets/base",
      "_view_module_version": "1.2.0",
      "_view_name": "LayoutView",
      "align_content": null,
      "align_items": null,
      "align_self": null,
      "border": null,
      "bottom": null,
      "display": null,
      "flex": null,
      "flex_flow": null,
      "grid_area": null,
      "grid_auto_columns": null,
      "grid_auto_flow": null,
      "grid_auto_rows": null,
      "grid_column": null,
      "grid_gap": null,
      "grid_row": null,
      "grid_template_areas": null,
      "grid_template_columns": null,
      "grid_template_rows": null,
      "height": null,
      "justify_content": null,
      "justify_items": null,
      "left": null,
      "margin": null,
      "max_height": null,
      "max_width": null,
      "min_height": null,
      "min_width": null,
      "object_fit": null,
      "object_position": null,
      "order": null,
      "overflow": null,
      "overflow_x": null,
      "overflow_y": null,
      "padding": null,
      "right": null,
      "top": null,
      "visibility": null,
      "width": null
     }
    },
    "f759fe3b1d9d443ead8755fb1fdcac3c": {
     "model_module": "@jupyter-widgets/base",
     "model_module_version": "1.2.0",
     "model_name": "LayoutModel",
     "state": {
      "_model_module": "@jupyter-widgets/base",
      "_model_module_version": "1.2.0",
      "_model_name": "LayoutModel",
      "_view_count": null,
      "_view_module": "@jupyter-widgets/base",
      "_view_module_version": "1.2.0",
      "_view_name": "LayoutView",
      "align_content": null,
      "align_items": null,
      "align_self": null,
      "border": null,
      "bottom": null,
      "display": null,
      "flex": null,
      "flex_flow": null,
      "grid_area": null,
      "grid_auto_columns": null,
      "grid_auto_flow": null,
      "grid_auto_rows": null,
      "grid_column": null,
      "grid_gap": null,
      "grid_row": null,
      "grid_template_areas": null,
      "grid_template_columns": null,
      "grid_template_rows": null,
      "height": null,
      "justify_content": null,
      "justify_items": null,
      "left": null,
      "margin": null,
      "max_height": null,
      "max_width": null,
      "min_height": null,
      "min_width": null,
      "object_fit": null,
      "object_position": null,
      "order": null,
      "overflow": null,
      "overflow_x": null,
      "overflow_y": null,
      "padding": null,
      "right": null,
      "top": null,
      "visibility": null,
      "width": null
     }
    },
    "f8249641a1ac4190b358c3dd4982fa73": {
     "model_module": "@jupyter-widgets/controls",
     "model_module_version": "1.5.0",
     "model_name": "DescriptionStyleModel",
     "state": {
      "_model_module": "@jupyter-widgets/controls",
      "_model_module_version": "1.5.0",
      "_model_name": "DescriptionStyleModel",
      "_view_count": null,
      "_view_module": "@jupyter-widgets/base",
      "_view_module_version": "1.2.0",
      "_view_name": "StyleView",
      "description_width": ""
     }
    },
    "f9e965154dfa4e3cbd04c913d5a418ec": {
     "model_module": "@jupyter-widgets/controls",
     "model_module_version": "1.5.0",
     "model_name": "HTMLModel",
     "state": {
      "_dom_classes": [],
      "_model_module": "@jupyter-widgets/controls",
      "_model_module_version": "1.5.0",
      "_model_name": "HTMLModel",
      "_view_count": null,
      "_view_module": "@jupyter-widgets/controls",
      "_view_module_version": "1.5.0",
      "_view_name": "HTMLView",
      "description": "",
      "description_tooltip": null,
      "layout": "IPY_MODEL_ec48937136a347a3be3028dadbe721d0",
      "placeholder": "​",
      "style": "IPY_MODEL_0c7918746f764b80807e3591d7263889",
      "value": " 28.0/28.0 [00:00&lt;00:00, 1.57kB/s]"
     }
    },
    "fbde99897b844287a47bcc4fcc9e46e7": {
     "model_module": "@jupyter-widgets/base",
     "model_module_version": "1.2.0",
     "model_name": "LayoutModel",
     "state": {
      "_model_module": "@jupyter-widgets/base",
      "_model_module_version": "1.2.0",
      "_model_name": "LayoutModel",
      "_view_count": null,
      "_view_module": "@jupyter-widgets/base",
      "_view_module_version": "1.2.0",
      "_view_name": "LayoutView",
      "align_content": null,
      "align_items": null,
      "align_self": null,
      "border": null,
      "bottom": null,
      "display": null,
      "flex": null,
      "flex_flow": null,
      "grid_area": null,
      "grid_auto_columns": null,
      "grid_auto_flow": null,
      "grid_auto_rows": null,
      "grid_column": null,
      "grid_gap": null,
      "grid_row": null,
      "grid_template_areas": null,
      "grid_template_columns": null,
      "grid_template_rows": null,
      "height": null,
      "justify_content": null,
      "justify_items": null,
      "left": null,
      "margin": null,
      "max_height": null,
      "max_width": null,
      "min_height": null,
      "min_width": null,
      "object_fit": null,
      "object_position": null,
      "order": null,
      "overflow": null,
      "overflow_x": null,
      "overflow_y": null,
      "padding": null,
      "right": null,
      "top": null,
      "visibility": null,
      "width": null
     }
    },
    "fd478ff597d44c02a474cd2e638bed76": {
     "model_module": "@jupyter-widgets/controls",
     "model_module_version": "1.5.0",
     "model_name": "HTMLModel",
     "state": {
      "_dom_classes": [],
      "_model_module": "@jupyter-widgets/controls",
      "_model_module_version": "1.5.0",
      "_model_name": "HTMLModel",
      "_view_count": null,
      "_view_module": "@jupyter-widgets/controls",
      "_view_module_version": "1.5.0",
      "_view_name": "HTMLView",
      "description": "",
      "description_tooltip": null,
      "layout": "IPY_MODEL_2db8efea85414ccd90cf29ab1828fa71",
      "placeholder": "​",
      "style": "IPY_MODEL_0749dce4ec5446d8af903bbf81d847f4",
      "value": "Downloading (…)solve/main/vocab.txt: 100%"
     }
    }
   }
  }
 },
 "nbformat": 4,
 "nbformat_minor": 1
}
